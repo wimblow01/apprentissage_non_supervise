{
 "cells": [
  {
   "cell_type": "code",
   "execution_count": 100,
   "metadata": {},
   "outputs": [],
   "source": [
    "import pandas as pd\n",
    "import sklearn as skl\n",
    "import numpy as np\n",
    "import matplotlib\n",
    "import sys\n",
    "import matplotlib.pyplot as plt\n",
    "from matplotlib.pyplot import matshow\n",
    "from sklearn.datasets import fetch_openml\n",
    "from sklearn.cluster import MiniBatchKMeans"
   ]
  },
  {
   "cell_type": "markdown",
   "metadata": {},
   "source": [
    "# II- Affichage des données MNIST "
   ]
  },
  {
   "cell_type": "code",
   "execution_count": 20,
   "metadata": {},
   "outputs": [],
   "source": [
    "X, y = fetch_openml('mnist_784', version=1, return_X_y=True)"
   ]
  },
  {
   "cell_type": "code",
   "execution_count": 21,
   "metadata": {},
   "outputs": [],
   "source": [
    "y = y.astype(np.uint8)"
   ]
  },
  {
   "cell_type": "markdown",
   "metadata": {},
   "source": [
    "## 1- Clutering"
   ]
  },
  {
   "cell_type": "code",
   "execution_count": 29,
   "metadata": {},
   "outputs": [],
   "source": [
    "#1)\n",
    "x_train, x_test, y_train, y_test = train_test_split(X, y, test_size=10000)"
   ]
  },
  {
   "cell_type": "code",
   "execution_count": 43,
   "metadata": {},
   "outputs": [
    {
     "data": {
      "image/png": "[encoded data removed]",
      "text/plain": [
       "<Figure size 576x576 with 9 Axes>"
      ]
     },
     "metadata": {
      "needs_background": "light"
     },
     "output_type": "display_data"
    }
   ],
   "source": [
    "#2)\n",
    "plt.figure(figsize=(8,8))\n",
    "for i in range(9):\n",
    "    some_digit = X[i]\n",
    "    digit = some_digit.reshape(28,28)\n",
    "    plt.subplot(3, 3, i+1)\n",
    "    plt.axis('off')\n",
    "    plt.imshow(digit, cmap=plt.cm.gray_r)\n",
    "plt.show()"
   ]
  },
  {
   "cell_type": "code",
   "execution_count": 73,
   "metadata": {},
   "outputs": [],
   "source": [
    "#3)\n",
    "X = x_train.reshape(len(x_train),-1)\n",
    "Y = y_train\n",
    "\n",
    "\n",
    "X = X.astype('float32')\n",
    "\n",
    "X /= 255\n"
   ]
  },
  {
   "cell_type": "code",
   "execution_count": 74,
   "metadata": {},
   "outputs": [
    {
     "name": "stdout",
     "output_type": "stream",
     "text": [
      "(60000, 784)\n"
     ]
    }
   ],
   "source": [
    "print(x_train.shape)"
   ]
  },
  {
   "cell_type": "code",
   "execution_count": 75,
   "metadata": {},
   "outputs": [
    {
     "data": {
      "text/plain": [
       "array([1, 1, 0, ..., 3, 0, 4])"
      ]
     },
     "execution_count": 75,
     "metadata": {},
     "output_type": "execute_result"
    }
   ],
   "source": [
    "#4)\n",
    "n_digits = len(np.unique(y_test))\n",
    "kmeans = MiniBatchKMeans(n_clusters=n_digits)\n",
    "kmeans.fit(X)\n",
    "kmeans.labels_"
   ]
  },
  {
   "cell_type": "code",
   "execution_count": 80,
   "metadata": {},
   "outputs": [],
   "source": [
    "#5)\n",
    "def infer_cluster_labels(kmeans, actual_labels):\n",
    "    inferred_labels = {}\n",
    "\n",
    "    for i in range(kmeans.n_clusters):\n",
    "\n",
    "        # find index of points in cluster\n",
    "        labels = []\n",
    "        index = np.where(kmeans.labels_ == i)\n",
    "\n",
    "        # append actual labels for each point in cluster\n",
    "        labels.append(actual_labels[index])\n",
    "\n",
    "        # déterminer le label le plus commun\n",
    "        if len(labels[0]) == 1:\n",
    "            counts = np.bincount(labels[0])\n",
    "        else:\n",
    "            counts = np.bincount(np.squeeze(labels))\n",
    "\n",
    "        # assign the cluster to a value in the inferred_labels dictionary\n",
    "        if np.argmax(counts) in inferred_labels:\n",
    "            # append the new number to the existing array at this slot\n",
    "            inferred_labels[np.argmax(counts)].append(i)\n",
    "        else:\n",
    "            # create a new array in this slot\n",
    "            inferred_labels[np.argmax(counts)] = [i]\n",
    "\n",
    "\n",
    "\n",
    "    return inferred_labels\n"
   ]
  },
  {
   "cell_type": "code",
   "execution_count": 103,
   "metadata": {},
   "outputs": [
    {
     "name": "stdout",
     "output_type": "stream",
     "text": [
      "[2 2 2 2 2 2 2 2 2 2]\n",
      "[9 7 8 9 7 3 9 7 0 2]\n"
     ]
    }
   ],
   "source": [
    "def infer_data_labels(X_labels, cluster_labels):\n",
    "  \n",
    "    predicted_labels = np.zeros(len(X_labels)).astype(np.uint8)\n",
    "\n",
    "    for i, cluster in enumerate(X_labels):\n",
    "        for key, value in cluster_labels.items():\n",
    "            if cluster in value:\n",
    "                predicted_labels[i] = key\n",
    "\n",
    "    return predicted_labels\n",
    "\n",
    "    # test des 2 fonctions\n",
    "\n",
    "cluster_labels = infer_cluster_labels(kmeans, Y)\n",
    "X_clusters = kmeans.predict(X)\n",
    "predicted_labels = infer_data_labels(X_clusters, cluster_labels)\n",
    "print (predicted_labels[:10])\n",
    "print (Y[:10])"
   ]
  },
  {
   "cell_type": "code",
   "execution_count": 92,
   "metadata": {},
   "outputs": [],
   "source": [
    "#6)\n",
    "from sklearn import metrics\n",
    "def calculate_metrics(estimator, data, labels):\n",
    "\n",
    "    # Calculate and print metrics\n",
    "    print('Number of Clusters: {}'.format(estimator.n_clusters))\n",
    "    print('Inertia: {}'.format(estimator.inertia_))\n",
    "    print('Homogeneity: {}'.format(metrics.homogeneity_score(labels, estimator.labels_)))"
   ]
  },
  {
   "cell_type": "code",
   "execution_count": 93,
   "metadata": {},
   "outputs": [
    {
     "name": "stdout",
     "output_type": "stream",
     "text": [
      "Number of Clusters: 10\n",
      "Inertia: 2.077049493434513e-18\n",
      "Homogeneity: 0.4665395024036438\n",
      "Accuracy: 0.60225\n",
      "\n",
      "Number of Clusters: 16\n",
      "Inertia: 1.894758604870743e-18\n",
      "Homogeneity: 0.5471664900952594\n",
      "Accuracy: 0.6270333333333333\n",
      "\n",
      "Number of Clusters: 36\n",
      "Inertia: 1.6872301266349927e-18\n",
      "Homogeneity: 0.6901908873825108\n",
      "Accuracy: 0.7745333333333333\n",
      "\n",
      "Number of Clusters: 64\n",
      "Inertia: 1.557605192948679e-18\n",
      "Homogeneity: 0.7391648201345303\n",
      "Accuracy: 0.8090166666666667\n",
      "\n",
      "Number of Clusters: 144\n",
      "Inertia: 1.402911167250514e-18\n",
      "Homogeneity: 0.8046309173053833\n",
      "Accuracy: 0.86375\n",
      "\n",
      "Number of Clusters: 256\n",
      "Inertia: 1.3026680760571508e-18\n",
      "Homogeneity: 0.837223645449462\n",
      "Accuracy: 0.8923833333333333\n",
      "\n"
     ]
    }
   ],
   "source": [
    "\n",
    "clusters = [10, 16, 36, 64, 144, 256]\n",
    "\n",
    "# test different numbers of clusters\n",
    "for n_clusters in clusters:\n",
    "    estimator = MiniBatchKMeans(n_clusters = n_clusters)\n",
    "    estimator.fit(X)\n",
    "    \n",
    "    # print cluster metrics\n",
    "    calculate_metrics(estimator, X, Y)\n",
    "    \n",
    "    # determine predicted labels\n",
    "    cluster_labels = infer_cluster_labels(estimator, Y)\n",
    "    predicted_Y = infer_data_labels(estimator.labels_, cluster_labels)\n",
    "    \n",
    "    # calculate and print accuracy\n",
    "    print('Accuracy: {}\\n'.format(metrics.accuracy_score(Y, predicted_Y)))"
   ]
  }
 ],
 "metadata": {
  "kernelspec": {
   "display_name": "Python 3",
   "language": "python",
   "name": "python3"
  },
  "language_info": {
   "codemirror_mode": {
    "name": "ipython",
    "version": 3
   },
   "file_extension": ".py",
   "mimetype": "text/x-python",
   "name": "python",
   "nbconvert_exporter": "python",
   "pygments_lexer": "ipython3",
   "version": "3.8.3"
  }
 },
 "nbformat": 4,
 "nbformat_minor": 4
}
